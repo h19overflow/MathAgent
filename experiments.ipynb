{
 "cells": [
  {
   "cell_type": "code",
   "execution_count": null,
   "id": "c9c5ce4f",
   "metadata": {},
   "outputs": [
    {
     "data": {
      "text/plain": [
       "{'messages': [SystemMessage(content='You are a helpful assistant and a weather forecaster.', additional_kwargs={}, response_metadata={}, id='f529c448-c402-465a-b424-bbcafc185b28'),\n",
       "  HumanMessage(content='hello what is the weather like in london', additional_kwargs={}, response_metadata={}, id='e294d934-f436-4dbf-94c4-cee85244a9fe'),\n",
       "  AIMessage(content='', additional_kwargs={'function_call': {'name': 'get_weather', 'arguments': '{\"city\": \"london\"}'}}, response_metadata={'prompt_feedback': {'block_reason': 0, 'safety_ratings': []}, 'finish_reason': 'STOP', 'model_name': 'gemini-2.5-flash-lite', 'safety_ratings': []}, id='lc_run--71a5347b-df16-4c0d-b97c-ce07e2988eb2-0', tool_calls=[{'name': 'get_weather', 'args': {'city': 'london'}, 'id': '089f39f0-9a66-463b-9b8b-2e027097b7ce', 'type': 'tool_call'}], usage_metadata={'input_tokens': 115, 'output_tokens': 15, 'total_tokens': 130, 'input_token_details': {'cache_read': 0}}),\n",
       "  ToolMessage(content=\"It's always sunny in london!\", name='get_weather', id='e050b202-a157-415d-a872-1a25ae5daa89', tool_call_id='089f39f0-9a66-463b-9b8b-2e027097b7ce'),\n",
       "  AIMessage(content='', additional_kwargs={'function_call': {'name': 'Answer', 'arguments': '{\"reasoning\": \"The user asked for the weather in London, and the get_weather tool returned the information about the weather in London.\", \"answer\": \"The weather in London is: It\\'s always sunny in london!\"}'}}, response_metadata={'prompt_feedback': {'block_reason': 0, 'safety_ratings': []}, 'finish_reason': 'STOP', 'model_name': 'gemini-2.5-flash-lite', 'safety_ratings': []}, id='lc_run--a5704cc0-aaf0-46d3-8f88-ec36cb3c5aea-0', tool_calls=[{'name': 'Answer', 'args': {'reasoning': 'The user asked for the weather in London, and the get_weather tool returned the information about the weather in London.', 'answer': \"The weather in London is: It's always sunny in london!\"}, 'id': 'd927ee26-c98a-4514-abb2-2a8b432c2bd4', 'type': 'tool_call'}], usage_metadata={'input_tokens': 152, 'output_tokens': 52, 'total_tokens': 204, 'input_token_details': {'cache_read': 0}}),\n",
       "  ToolMessage(content='Returning structured response: answer=\"The weather in London is: It\\'s always sunny in london!\" reasoning=\\'The user asked for the weather in London, and the get_weather tool returned the information about the weather in London.\\'', name='Answer', id='92ad0f3c-7863-4821-9d3f-11fdd4ca25db', tool_call_id='d927ee26-c98a-4514-abb2-2a8b432c2bd4')],\n",
       " 'structured_response': Answer(answer=\"The weather in London is: It's always sunny in london!\", reasoning='The user asked for the weather in London, and the get_weather tool returned the information about the weather in London.')}"
      ]
     },
     "execution_count": 15,
     "metadata": {},
     "output_type": "execute_result"
    }
   ],
   "source": [
    "from langchain.agents import create_agent\n",
    "from langchain_core.prompts import ChatPromptTemplate\n",
    "from pydantic import BaseModel , Field\n",
    "\n",
    "\n",
    "class Answer(BaseModel):\n",
    "    answer: str = Field(..., description=\"The answer to the question\")\n",
    "    reasoning: str = Field(..., description=\"the reason to the answer\")\n",
    "\n",
    "\n",
    "prompt  = ChatPromptTemplate.from_messages([\n",
    "('system', 'You are a helpful assistant and a weather forecaster.'),\n",
    "('human', 'hello {input_message}'),\n",
    "\n",
    "])\n",
    "\n",
    "def get_weather(city: str) -> str:\n",
    "    \"\"\"Get weather for a given city.\"\"\"\n",
    "    return f\"It's always sunny in {city}!\"\n",
    "\n",
    "agent = create_agent(\n",
    "    model= \"google_genai:gemini-2.5-flash-lite\",\n",
    "    tools=[get_weather],\n",
    "    system_prompt=\"You are a helpful assistant\",\n",
    "    response_format=Answer,\n",
    ")\n",
    "\n",
    "\n",
    "chain  = prompt | agent\n",
    "chain.invoke({\"input_message\": \"what is the weather like in london\"})"
   ]
  },
  {
   "cell_type": "code",
   "execution_count": null,
   "id": "678af103",
   "metadata": {},
   "outputs": [
    {
     "data": {
      "text/plain": [
       "{'messages': [SystemMessage(content=' You are an AI assistant that helps people find information.', additional_kwargs={}, response_metadata={}, id='8acade17-f260-4050-a3f2-4e06b3616447'),\n",
       "  SystemMessage(content=' You will be given a task to complete and your job is to come up with a series of simple steps that lead to a successful completion of the task.', additional_kwargs={}, response_metadata={}, id='d36e0910-cc46-4982-8d30-9972467ab09b'),\n",
       "  SystemMessage(content=' Each step should be described in a way that is understandable to a person with some expertise in the subject.', additional_kwargs={}, response_metadata={}, id='94d83480-7aad-45c3-a2f1-a772e3ffd46a'),\n",
       "  SystemMessage(content=' Your first task is to find the best experiment for a given goal.', additional_kwargs={}, response_metadata={}, id='18ac52d2-742b-4539-b407-54334612f461'),\n",
       "  SystemMessage(content=' Here is the task:', additional_kwargs={}, response_metadata={}, id='4af2249f-fccf-45a3-899a-8074992cb6b6'),\n",
       "  HumanMessage(content=' Find the best experiment for the goal: Find the best experiment for a given goal.', additional_kwargs={}, response_metadata={}, id='d540e72f-8db3-4d0e-9061-b66a90a2bfb4'),\n",
       "  AIMessage(content='', additional_kwargs={'function_call': {'name': 'Experiment', 'arguments': '{\"goals\": \"To find the best experiment for a specific goal, ensuring optimal resource utilization and outcome reliability.\", \"results\": \"A formally selected and justified \\'best experiment\\' tailored to the specific target goal, along with a detailed report on the evaluation process and the discarded alternatives.\", \"description\": \"An experiment designed to systematically identify the most suitable experimental methodology for a given objective by evaluating various approaches against predefined criteria.\", \"steps\": \"1. Define the specific target goal for which an experiment is needed. 2. Establish quantitative and qualitative criteria for evaluating experiment \\'bestness\\' (e.g., cost-effectiveness, accuracy, ethical impact, feasibility). 3. Research and list all plausible experimental designs and methodologies relevant to the target goal. 4. Develop an evaluation matrix to score each potential experiment against the defined criteria. 5. Conduct simulations, pilot studies, or expert reviews for each potential experiment to gather data for the evaluation matrix. 6. Analyze the scores to identify the \\'best\\' experiment based on the highest overall score or specific weighted criteria. 7. Document the chosen experiment and the rationale for its selection.\", \"constraints\": \"Requires clear definition of the target goal, comprehensive list of potential experimental approaches, and measurable evaluation criteria. Limited by available data for comparison and simulation capabilities.\", \"name\": \"Optimal Experiment Identification Protocol\"}'}}, response_metadata={'prompt_feedback': {'block_reason': 0, 'safety_ratings': []}, 'finish_reason': 'STOP', 'model_name': 'gemini-2.5-flash', 'safety_ratings': []}, id='lc_run--95e6be12-ea20-45a7-82bc-5951b1146d36-0', tool_calls=[{'name': 'Experiment', 'args': {'goals': 'To find the best experiment for a specific goal, ensuring optimal resource utilization and outcome reliability.', 'results': \"A formally selected and justified 'best experiment' tailored to the specific target goal, along with a detailed report on the evaluation process and the discarded alternatives.\", 'description': 'An experiment designed to systematically identify the most suitable experimental methodology for a given objective by evaluating various approaches against predefined criteria.', 'steps': \"1. Define the specific target goal for which an experiment is needed. 2. Establish quantitative and qualitative criteria for evaluating experiment 'bestness' (e.g., cost-effectiveness, accuracy, ethical impact, feasibility). 3. Research and list all plausible experimental designs and methodologies relevant to the target goal. 4. Develop an evaluation matrix to score each potential experiment against the defined criteria. 5. Conduct simulations, pilot studies, or expert reviews for each potential experiment to gather data for the evaluation matrix. 6. Analyze the scores to identify the 'best' experiment based on the highest overall score or specific weighted criteria. 7. Document the chosen experiment and the rationale for its selection.\", 'constraints': 'Requires clear definition of the target goal, comprehensive list of potential experimental approaches, and measurable evaluation criteria. Limited by available data for comparison and simulation capabilities.', 'name': 'Optimal Experiment Identification Protocol'}, 'id': '22d407f3-58dd-489d-b086-d87c7f7a2bf4', 'type': 'tool_call'}], usage_metadata={'input_tokens': 213, 'output_tokens': 3210, 'total_tokens': 3423, 'input_token_details': {'cache_read': 0}, 'output_token_details': {'reasoning': 2936}}),\n",
       "  ToolMessage(content='Returning structured response: name=\\'Optimal Experiment Identification Protocol\\' description=\\'An experiment designed to systematically identify the most suitable experimental methodology for a given objective by evaluating various approaches against predefined criteria.\\' goals=\\'To find the best experiment for a specific goal, ensuring optimal resource utilization and outcome reliability.\\' constraints=\\'Requires clear definition of the target goal, comprehensive list of potential experimental approaches, and measurable evaluation criteria. Limited by available data for comparison and simulation capabilities.\\' steps=\"1. Define the specific target goal for which an experiment is needed. 2. Establish quantitative and qualitative criteria for evaluating experiment \\'bestness\\' (e.g., cost-effectiveness, accuracy, ethical impact, feasibility). 3. Research and list all plausible experimental designs and methodologies relevant to the target goal. 4. Develop an evaluation matrix to score each potential experiment against the defined criteria. 5. Conduct simulations, pilot studies, or expert reviews for each potential experiment to gather data for the evaluation matrix. 6. Analyze the scores to identify the \\'best\\' experiment based on the highest overall score or specific weighted criteria. 7. Document the chosen experiment and the rationale for its selection.\" results=\"A formally selected and justified \\'best experiment\\' tailored to the specific target goal, along with a detailed report on the evaluation process and the discarded alternatives.\"', name='Experiment', id='0cd2f7c0-421a-48bc-b9e0-2dcd660d22e8', tool_call_id='22d407f3-58dd-489d-b086-d87c7f7a2bf4')],\n",
       " 'structured_response': Experiment(name='Optimal Experiment Identification Protocol', description='An experiment designed to systematically identify the most suitable experimental methodology for a given objective by evaluating various approaches against predefined criteria.', goals='To find the best experiment for a specific goal, ensuring optimal resource utilization and outcome reliability.', constraints='Requires clear definition of the target goal, comprehensive list of potential experimental approaches, and measurable evaluation criteria. Limited by available data for comparison and simulation capabilities.', steps=\"1. Define the specific target goal for which an experiment is needed. 2. Establish quantitative and qualitative criteria for evaluating experiment 'bestness' (e.g., cost-effectiveness, accuracy, ethical impact, feasibility). 3. Research and list all plausible experimental designs and methodologies relevant to the target goal. 4. Develop an evaluation matrix to score each potential experiment against the defined criteria. 5. Conduct simulations, pilot studies, or expert reviews for each potential experiment to gather data for the evaluation matrix. 6. Analyze the scores to identify the 'best' experiment based on the highest overall score or specific weighted criteria. 7. Document the chosen experiment and the rationale for its selection.\", results=\"A formally selected and justified 'best experiment' tailored to the specific target goal, along with a detailed report on the evaluation process and the discarded alternatives.\")}"
      ]
     },
     "execution_count": 16,
     "metadata": {},
     "output_type": "execute_result"
    }
   ],
   "source": [
    "from langchain.agents import create_agent\n",
    "from langchain_core.prompts import ChatMessagePromptTemplate\n",
    "from pydantic import BaseModel, Field\n",
    "class Experiment(BaseModel):\n",
    "    name: str = Field(..., description=\"Name of the experiment\")\n",
    "    description: str = Field(..., description=\"Description of the experiment\")\n",
    "    goals: str = Field(..., description=\"Goals of the experiment\")\n",
    "    constraints: str = Field(..., description=\"Constraints of the experiment\")\n",
    "    steps: str = Field(..., description=\"Steps of the experiment\")\n",
    "    results: str = Field(..., description=\"Results of the experiment\")\n",
    "\n",
    "prompt =  ChatPromptTemplate.from_messages([\n",
    "\n",
    "('system', ' You are an AI assistant that helps people find information.'),\n",
    "('system', ' You will be given a task to complete and your job is to come up with a series of simple steps that lead to a successful completion of the task.'),\n",
    "('system', ' Each step should be described in a way that is understandable to a person with some expertise in the subject.'),\n",
    "('system', ' Your first task is to find the best experiment for a given goal.'),\n",
    "('system', ' Here is the task:'),\n",
    "('human', ' Find the best experiment for the goal: {goal}'),\n",
    "])\n",
    "\n",
    "agent = create_agent('google_genai:gemini-2.5-flash-lite',response_format=Experiment, system_prompt='Be helpful to the users needs act sophisicated',tools=[])\n",
    "chain = prompt | agent\n",
    "chain.invoke({'goal': 'Find the best experiment for a given goal.'})[]"
   ]
  },
  {
   "cell_type": "code",
   "execution_count": null,
   "id": "0f20c691",
   "metadata": {},
   "outputs": [],
   "source": []
  }
 ],
 "metadata": {
  "kernelspec": {
   "display_name": ".venv",
   "language": "python",
   "name": "python3"
  },
  "language_info": {
   "codemirror_mode": {
    "name": "ipython",
    "version": 3
   },
   "file_extension": ".py",
   "mimetype": "text/x-python",
   "name": "python",
   "nbconvert_exporter": "python",
   "pygments_lexer": "ipython3",
   "version": "3.11.12"
  }
 },
 "nbformat": 4,
 "nbformat_minor": 5
}
